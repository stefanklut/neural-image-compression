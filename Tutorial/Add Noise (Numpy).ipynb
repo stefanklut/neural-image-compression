{
 "cells": [
  {
   "cell_type": "code",
   "execution_count": 1,
   "metadata": {},
   "outputs": [],
   "source": [
    "import torch\n",
    "import numpy as np"
   ]
  },
  {
   "cell_type": "code",
   "execution_count": 2,
   "metadata": {},
   "outputs": [
    {
     "name": "stdout",
     "output_type": "stream",
     "text": [
      "[[0.98258012 1.         1.         1.         0.         1.        ]\n",
      " [0.56562517 0.0475976  0.         1.         1.         0.        ]]\n"
     ]
    }
   ],
   "source": [
    "npa = np.random.rand(2,6)\n",
    "x,y = npa.shape\n",
    "mask= np.where([[0 if i < k else 1 for i in range(y)] for k in [np.random.randint(0, y+1) for _ in range(x)]])\n",
    "npa[mask] = np.random.randint(0, 2, size=(x,y))[mask]\n",
    "print(npa)"
   ]
  },
  {
   "cell_type": "code",
   "execution_count": null,
   "metadata": {},
   "outputs": [],
   "source": []
  }
 ],
 "metadata": {
  "kernelspec": {
   "display_name": "Python 3",
   "language": "python",
   "name": "python3"
  },
  "language_info": {
   "codemirror_mode": {
    "name": "ipython",
    "version": 3
   },
   "file_extension": ".py",
   "mimetype": "text/x-python",
   "name": "python",
   "nbconvert_exporter": "python",
   "pygments_lexer": "ipython3",
   "version": "3.7.1"
  }
 },
 "nbformat": 4,
 "nbformat_minor": 2
}
