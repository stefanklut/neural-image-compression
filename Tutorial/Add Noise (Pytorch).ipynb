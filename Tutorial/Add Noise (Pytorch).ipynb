{
 "cells": [
  {
   "cell_type": "code",
   "execution_count": 1,
   "metadata": {},
   "outputs": [],
   "source": [
    "import torch\n",
    "import numpy as np"
   ]
  },
  {
   "cell_type": "code",
   "execution_count": 51,
   "metadata": {},
   "outputs": [
    {
     "name": "stdout",
     "output_type": "stream",
     "text": [
      "tensor([[0.2954, 0.3342, 0.1055, 0.6702, 0.9019, 1.0000],\n",
      "        [0.3005, 0.0000, 0.0000, 1.0000, 1.0000, 0.0000]])\n"
     ]
    }
   ],
   "source": [
    "npa = torch.rand(2,6)\n",
    "x,y = npa.shape\n",
    "mask= np.where([[0 if i < k else 1 for i in range(y)] for k in [np.random.randint(0, y+1) for _ in range(x)]])\n",
    "npa[mask] = torch.distributions.Bernoulli(torch.ones(x,y)/2).sample()[mask]\n",
    "print(npa)"
   ]
  },
  {
   "cell_type": "code",
   "execution_count": null,
   "metadata": {},
   "outputs": [],
   "source": []
  }
 ],
 "metadata": {
  "kernelspec": {
   "display_name": "Python 3",
   "language": "python",
   "name": "python3"
  },
  "language_info": {
   "codemirror_mode": {
    "name": "ipython",
    "version": 3
   },
   "file_extension": ".py",
   "mimetype": "text/x-python",
   "name": "python",
   "nbconvert_exporter": "python",
   "pygments_lexer": "ipython3",
   "version": "3.7.1"
  }
 },
 "nbformat": 4,
 "nbformat_minor": 2
}
