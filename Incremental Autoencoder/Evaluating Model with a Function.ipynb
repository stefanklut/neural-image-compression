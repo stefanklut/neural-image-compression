{
 "cells": [
  {
   "cell_type": "code",
   "execution_count": 2,
   "metadata": {},
   "outputs": [],
   "source": [
    "# Imports\n",
    "import torch\n",
    "import torch.nn as nn\n",
    "from torch.autograd import Variable\n",
    "import torch.utils.data as Data\n",
    "import torchvision\n",
    "\n",
    "import matplotlib.pyplot as plt\n",
    "\n",
    "import numpy as np\n",
    "\n",
    "from pyro.distributions.relaxed_straight_through import RelaxedBernoulliStraightThrough\n",
    "\n",
    "import autoencoders\n",
    "\n",
    "from skimage.measure import compare_ssim as ssim\n",
    "from skimage.measure import compare_mse as mse\n",
    "from skimage.measure import compare_psnr as psnr\n",
    "from skimage.measure import compare_nrmse as nrmse"
   ]
  },
  {
   "cell_type": "code",
   "execution_count": 3,
   "metadata": {},
   "outputs": [],
   "source": [
    "# Set seed for reproduciblity\n",
    "torch.manual_seed(7212)\n",
    "np.random.seed(2980)"
   ]
  },
  {
   "cell_type": "code",
   "execution_count": null,
   "metadata": {},
   "outputs": [],
   "source": [
    "# Mnist digits dataset (download if necessary)\n",
    "test_data = torchvision.datasets.FashionMNIST(\n",
    "    root='./Datasets/fashion-mnist/',\n",
    "    train=False,\n",
    "    transform=torchvision.transforms.ToTensor(),                        \n",
    "    download=False,\n",
    ")"
   ]
  },
  {
   "cell_type": "code",
   "execution_count": 4,
   "metadata": {},
   "outputs": [
    {
     "name": "stdout",
     "output_type": "stream",
     "text": [
      "Currently running on: cuda\n"
     ]
    }
   ],
   "source": [
    "# Select which device to use, use the gpu if available\n",
    "device = torch.device(\"cuda\" if torch.cuda.is_available() else \"cpu\")\n",
    "print(\"Currently running on:\", device)"
   ]
  },
  {
   "cell_type": "code",
   "execution_count": 5,
   "metadata": {},
   "outputs": [],
   "source": [
    "def load_autoencoder(model_name, saved_as=None, run_on=\"cpu\"):\n",
    "    \n",
    "    # Set the save name to the model name if no name was specified\n",
    "    if not saved_as:\n",
    "        saved_as = model_name\n",
    "    \n",
    "    # Select what type of autoencoder to load\n",
    "    used_autoencoder = getattr(autoencoders, model_name)\n",
    "    autoencoder = used_autoencoder().to(run_on)\n",
    "\n",
    "    # Load the weights from the saved file\n",
    "    autoencoder.load_state_dict(torch.load(\"./Trained Models/\" + saved_as + \".pt\"))\n",
    "    \n",
    "    # Set the training flag to False\n",
    "    autoencoder.eval()\n",
    "    \n",
    "    print(\"Loaded:\", model_name, \"| In Cuda:\", next(autoencoder.parameters()).is_cuda)\n",
    "    return autoencoder"
   ]
  },
  {
   "cell_type": "code",
   "execution_count": 7,
   "metadata": {},
   "outputs": [
    {
     "name": "stdout",
     "output_type": "stream",
     "text": [
      "Loaded: IncrementalAutoEncoder | In Cuda: True\n",
      "Loaded: RandomAutoEncoder | In Cuda: True\n",
      "Loaded: AutoEncoder | In Cuda: True\n"
     ]
    }
   ],
   "source": [
    "incremental_autoencoder = load_autoencoder(\"IncrementalAutoEncoder\", run_on=device)\n",
    "random_autoencoder = load_autoencoder(\"RandomAutoEncoder\", run_on=device)\n",
    "autoencoder = load_autoencoder(\"AutoEncoder\", run_on=device)"
   ]
  }
 ],
 "metadata": {
  "kernelspec": {
   "display_name": "Python 3",
   "language": "python",
   "name": "python3"
  },
  "language_info": {
   "codemirror_mode": {
    "name": "ipython",
    "version": 3
   },
   "file_extension": ".py",
   "mimetype": "text/x-python",
   "name": "python",
   "nbconvert_exporter": "python",
   "pygments_lexer": "ipython3",
   "version": "3.7.3"
  }
 },
 "nbformat": 4,
 "nbformat_minor": 2
}
