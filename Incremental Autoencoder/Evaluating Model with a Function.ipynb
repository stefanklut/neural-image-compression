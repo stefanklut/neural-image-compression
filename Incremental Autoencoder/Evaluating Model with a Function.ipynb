{
 "cells": [
  {
   "cell_type": "code",
   "execution_count": 1,
   "metadata": {},
   "outputs": [],
   "source": [
    "# Imports\n",
    "import torch\n",
    "import torch.nn as nn\n",
    "from torch.autograd import Variable\n",
    "import torch.utils.data as Data\n",
    "import torchvision\n",
    "\n",
    "import matplotlib.pyplot as plt\n",
    "\n",
    "import numpy as np\n",
    "\n",
    "from pyro.distributions.relaxed_straight_through import RelaxedBernoulliStraightThrough\n",
    "\n",
    "import autoencoders\n",
    "\n",
    "from skimage.measure import compare_ssim as ssim\n",
    "from skimage.measure import compare_mse as mse\n",
    "from skimage.measure import compare_psnr as psnr\n",
    "from skimage.measure import compare_nrmse as nrmse"
   ]
  },
  {
   "cell_type": "code",
   "execution_count": 2,
   "metadata": {},
   "outputs": [],
   "source": [
    "# Set seed for reproduciblity\n",
    "torch.manual_seed(7212)\n",
    "np.random.seed(2980)"
   ]
  },
  {
   "cell_type": "code",
   "execution_count": 3,
   "metadata": {},
   "outputs": [],
   "source": [
    "# Mnist digits dataset (download if necessary)\n",
    "test_data = torchvision.datasets.FashionMNIST(\n",
    "    root='./Datasets/fashion-mnist/',\n",
    "    train=False,\n",
    "    transform=torchvision.transforms.ToTensor(),                        \n",
    "    download=False,\n",
    ")"
   ]
  },
  {
   "cell_type": "code",
   "execution_count": 4,
   "metadata": {},
   "outputs": [
    {
     "name": "stdout",
     "output_type": "stream",
     "text": [
      "Currently running on: cuda\n"
     ]
    }
   ],
   "source": [
    "# Select which device to use, use the gpu if available\n",
    "device = torch.device(\"cuda\" if torch.cuda.is_available() else \"cpu\")\n",
    "print(\"Currently running on:\", device)"
   ]
  },
  {
   "cell_type": "code",
   "execution_count": 5,
   "metadata": {},
   "outputs": [],
   "source": [
    "def load_autoencoder(model_name, saved_as=None, run_on=\"cpu\"):\n",
    "    \n",
    "    # Set the save name to the model name if no name was specified\n",
    "    if not saved_as:\n",
    "        saved_as = model_name\n",
    "    \n",
    "    # Select what type of autoencoder to load\n",
    "    used_autoencoder = getattr(autoencoders, model_name)\n",
    "    autoencoder = used_autoencoder().to(run_on)\n",
    "\n",
    "    # Load the weights from the saved file\n",
    "    autoencoder.load_state_dict(torch.load(\"./Trained Models/\" + saved_as + \".pt\"))\n",
    "    \n",
    "    # Set the training flag to False\n",
    "    autoencoder.eval()\n",
    "    \n",
    "    print(\"Loaded:\", model_name, \"| In Cuda:\", next(autoencoder.parameters()).is_cuda)\n",
    "    return autoencoder"
   ]
  },
  {
   "cell_type": "code",
   "execution_count": 6,
   "metadata": {},
   "outputs": [
    {
     "name": "stdout",
     "output_type": "stream",
     "text": [
      "Loaded: IncrementalAutoEncoder | In Cuda: True\n",
      "Loaded: RandomAutoEncoder | In Cuda: True\n",
      "Loaded: AutoEncoder | In Cuda: True\n"
     ]
    }
   ],
   "source": [
    "incremental_autoencoder = load_autoencoder(\"IncrementalAutoEncoder\", run_on=device)\n",
    "random_autoencoder = load_autoencoder(\"RandomAutoEncoder\", run_on=device)\n",
    "autoencoder = load_autoencoder(\"AutoEncoder\", run_on=device)"
   ]
  },
  {
   "cell_type": "code",
   "execution_count": 7,
   "metadata": {},
   "outputs": [],
   "source": [
    "TEST_IMAGES = 10"
   ]
  },
  {
   "cell_type": "code",
   "execution_count": 8,
   "metadata": {},
   "outputs": [],
   "source": [
    "def autoencoder_corruption(autoencoder):\n",
    "    \n",
    "    test_images = test_data.data.view(-1, 28*28).type(torch.FloatTensor).to(device)/255\n",
    "    \n",
    "    n_images = len(test_images)\n",
    "    total_mse, total_ssim, total_nrmse, total_psnr = 0, 0, 0, 0\n",
    "    \n",
    "#     encoded_images, decoded_images = autoencoder(test_images)\n",
    "\n",
    "    encoded_images = autoencoder.encoder(test_images)\n",
    "    binary_encoded = RelaxedBernoulliStraightThrough(1, logits=encoded_images).rsample()\n",
    "    \n",
    "    x,y = binary_encoded.shape\n",
    "    \n",
    "    for k in range(0, y+1, 8):\n",
    "        mask = np.where(np.concatenate((np.zeros((x,y-k)), np.ones((x, k))), axis=1))\n",
    "        binary_encoded[mask] = torch.distributions.Bernoulli(probs=(torch.ones(x,y)/2)).sample().to(device)[mask]\n",
    "\n",
    "        decoded_images = autoencoder.decoder(binary_encoded)\n",
    "        \n",
    "        for i in range(n_images):\n",
    "            test_image = test_images[i].cpu().detach().numpy()\n",
    "            decoded_test_image = decoded_images[i].cpu().detach().numpy()\n",
    "            total_mse += mse(test_image, decoded_test_image)\n",
    "            total_ssim += ssim(test_image, decoded_test_image)\n",
    "            total_nrmse += nrmse(test_image, decoded_test_image)\n",
    "            total_psnr += psnr(test_image, decoded_test_image)\n",
    "\n",
    "        value_mse = total_mse/n_images\n",
    "        value_ssim = total_ssim/n_images\n",
    "        value_nrmse = total_nrmse/n_images\n",
    "        value_psnr = total_psnr/n_images\n",
    "\n",
    "        print(\"Current corruption:\", k)\n",
    "        print(\"MSE:\", value_mse, \"SSIM:\", value_ssim, \"NRMSE:\", value_nrmse, \"PSNR:\", value_psnr)"
   ]
  },
  {
   "cell_type": "code",
   "execution_count": 9,
   "metadata": {},
   "outputs": [
    {
     "name": "stdout",
     "output_type": "stream",
     "text": [
      "Current corruption: 0\n",
      "MSE: 0.020172986028902842 SSIM: 0.6827972592986662 NRMSE: 0.3445529666404924 PSNR: 17.594020590353413\n",
      "Current corruption: 8\n",
      "MSE: 0.04034581035156237 SSIM: 1.365571889117742 NRMSE: 0.6890275819459023 PSNR: 35.18875379780395\n",
      "Current corruption: 16\n",
      "MSE: 0.06052258064582815 SSIM: 2.048313042977949 NRMSE: 1.0335298718322325 PSNR: 52.78293174053138\n",
      "Current corruption: 24\n",
      "MSE: 0.0806888171164809 SSIM: 2.7309823151522736 NRMSE: 1.3780090992960083 PSNR: 70.37958222784656\n",
      "Current corruption: 32\n",
      "MSE: 0.10086977763824481 SSIM: 3.4134614357153734 NRMSE: 1.7225696029222075 PSNR: 87.97297860692653\n",
      "Current corruption: 40\n",
      "MSE: 0.12106494315056823 SSIM: 4.095860477774638 NRMSE: 2.0672126635691916 PSNR: 105.56317460274228\n",
      "Current corruption: 48\n",
      "MSE: 0.14127248513681687 SSIM: 4.778063132928884 NRMSE: 2.4119864823992208 PSNR: 123.1503976905014\n",
      "Current corruption: 56\n",
      "MSE: 0.16149556774550677 SSIM: 5.45987606894193 NRMSE: 2.75690438250935 PSNR: 140.7340622203826\n",
      "Current corruption: 64\n",
      "MSE: 0.18172932572704367 SSIM: 6.141601559309598 NRMSE: 3.1019219332005097 PSNR: 158.31475023013735\n",
      "Current corruption: 72\n",
      "MSE: 0.20198855428929166 SSIM: 6.8231414403568005 NRMSE: 3.4470384965316794 PSNR: 175.8909668715925\n",
      "Current corruption: 80\n",
      "MSE: 0.2222781592172559 SSIM: 7.504460853107221 NRMSE: 3.7924602867368296 PSNR: 193.4579912961998\n",
      "Current corruption: 88\n",
      "MSE: 0.24257560416285823 SSIM: 8.185308691027277 NRMSE: 4.137985098753449 PSNR: 211.0242204753857\n",
      "Current corruption: 96\n",
      "MSE: 0.26292054978520263 SSIM: 8.865708713901526 NRMSE: 4.48396149673173 PSNR: 228.578632877196\n",
      "Current corruption: 104\n",
      "MSE: 0.2833161568172865 SSIM: 9.545559591889381 NRMSE: 4.830308065546791 PSNR: 246.12118452082822\n",
      "Current corruption: 112\n",
      "MSE: 0.3037534409074734 SSIM: 10.224803873567982 NRMSE: 5.177123925922639 PSNR: 263.6533262991803\n",
      "Current corruption: 120\n",
      "MSE: 0.32423822216775566 SSIM: 10.903358422921618 NRMSE: 5.52433158182294 PSNR: 281.17481297299173\n",
      "Current corruption: 128\n",
      "MSE: 0.3447728160581966 SSIM: 11.580818625350718 NRMSE: 5.872003947698274 PSNR: 298.68449986542885\n",
      "Current corruption: 136\n",
      "MSE: 0.36541785944716826 SSIM: 12.25716260360558 NRMSE: 6.220738919592587 PSNR: 316.16647839912594\n",
      "Current corruption: 144\n",
      "MSE: 0.3861576415191411 SSIM: 12.932777476366411 NRMSE: 6.570391610016317 PSNR: 333.62645191527076\n",
      "Current corruption: 152\n",
      "MSE: 0.4070101625170259 SSIM: 13.606654950529855 NRMSE: 6.920954640003707 PSNR: 351.06176205862334\n",
      "Current corruption: 160\n",
      "MSE: 0.42799849301595677 SSIM: 14.28021990294983 NRMSE: 7.272649089342375 PSNR: 368.4644294312721\n",
      "Current corruption: 168\n",
      "MSE: 0.44916622290954 SSIM: 14.951538256904657 NRMSE: 7.62599602753584 PSNR: 385.8239268082786\n",
      "Current corruption: 176\n",
      "MSE: 0.4705669383166735 SSIM: 15.619993492638745 NRMSE: 7.98139794331385 PSNR: 403.1332187437878\n",
      "Current corruption: 184\n",
      "MSE: 0.49226024576237726 SSIM: 16.28612887847657 NRMSE: 8.339257388165949 PSNR: 420.3782331219145\n",
      "Current corruption: 192\n",
      "MSE: 0.5142966872129194 SSIM: 16.94885760282019 NRMSE: 8.699893844980146 PSNR: 437.54866144461977\n",
      "Current corruption: 200\n",
      "MSE: 0.537010459370436 SSIM: 17.605296014656787 NRMSE: 9.066229767584646 PSNR: 454.57467495261824\n",
      "Current corruption: 208\n",
      "MSE: 0.5604296130683524 SSIM: 18.25425604684737 NRMSE: 9.438495941382907 PSNR: 471.45353006996174\n",
      "Current corruption: 216\n",
      "MSE: 0.5849559153428705 SSIM: 18.88960731003379 NRMSE: 9.819659731090814 PSNR: 488.11642280538194\n",
      "Current corruption: 224\n",
      "MSE: 0.6112442125728763 SSIM: 19.50687825578137 NRMSE: 10.214501855510198 PSNR: 504.4626998976776\n",
      "Current corruption: 232\n",
      "MSE: 0.6402312653255915 SSIM: 20.09720932659317 NRMSE: 10.628467522820543 PSNR: 520.3605782412039\n",
      "Current corruption: 240\n",
      "MSE: 0.674398624057453 SSIM: 20.643902849033044 NRMSE: 11.076599944567244 PSNR: 535.5360262836538\n",
      "Current corruption: 248\n",
      "MSE: 0.7221485446554139 SSIM: 21.116968771632337 NRMSE: 11.608340257734373 PSNR: 549.2337667575689\n",
      "Current corruption: 256\n",
      "MSE: 0.8358522494862771 SSIM: 21.367546032849805 NRMSE: 12.439676637968809 PSNR: 559.2100052040345\n"
     ]
    }
   ],
   "source": [
    "autoencoder_corruption(incremental_autoencoder)"
   ]
  },
  {
   "cell_type": "code",
   "execution_count": null,
   "metadata": {},
   "outputs": [],
   "source": []
  }
 ],
 "metadata": {
  "kernelspec": {
   "display_name": "Python 3",
   "language": "python",
   "name": "python3"
  },
  "language_info": {
   "codemirror_mode": {
    "name": "ipython",
    "version": 3
   },
   "file_extension": ".py",
   "mimetype": "text/x-python",
   "name": "python",
   "nbconvert_exporter": "python",
   "pygments_lexer": "ipython3",
   "version": "3.7.3"
  }
 },
 "nbformat": 4,
 "nbformat_minor": 2
}
