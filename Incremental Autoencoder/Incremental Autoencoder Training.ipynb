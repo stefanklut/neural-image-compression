{
 "cells": [
  {
   "cell_type": "code",
   "execution_count": 1,
   "metadata": {},
   "outputs": [],
   "source": [
    "# Imports\n",
    "import torch\n",
    "import torch.nn as nn\n",
    "from torch.autograd import Variable\n",
    "import torch.utils.data as Data\n",
    "import torchvision\n",
    "\n",
    "import matplotlib.pyplot as plt\n",
    "import pylab as pl\n",
    "from IPython import display\n",
    "\n",
    "%matplotlib inline\n",
    "\n",
    "import time\n",
    "\n",
    "import numpy as np\n",
    "\n",
    "import autoencoders"
   ]
  },
  {
   "cell_type": "code",
   "execution_count": 2,
   "metadata": {},
   "outputs": [],
   "source": [
    "# Set seed for reproduciblity\n",
    "torch.manual_seed(7212)\n",
    "np.random.seed(2980)"
   ]
  },
  {
   "cell_type": "code",
   "execution_count": 3,
   "metadata": {},
   "outputs": [],
   "source": [
    "# Hyper Parameters\n",
    "EPOCH = 10\n",
    "BATCH_SIZE = 64\n",
    "LR = 0.0005         # learning rate\n",
    "N_TEST_IMG = 5\n",
    "SHOW_LOSS = True\n",
    "MODEL = 'AutoEncoder'"
   ]
  },
  {
   "cell_type": "code",
   "execution_count": 4,
   "metadata": {},
   "outputs": [],
   "source": [
    "# Mnist digits dataset (download if necessary)\n",
    "train_data = torchvision.datasets.FashionMNIST(\n",
    "    root='./Datasets/fashion-mnist/',\n",
    "    train=True,\n",
    "    transform=torchvision.transforms.ToTensor(),                        \n",
    "    download=False,\n",
    ")"
   ]
  },
  {
   "cell_type": "code",
   "execution_count": 5,
   "metadata": {},
   "outputs": [],
   "source": [
    "n_loss_per_step = np.ceil(len(train_data)/BATCH_SIZE)-1"
   ]
  },
  {
   "cell_type": "code",
   "execution_count": 6,
   "metadata": {},
   "outputs": [],
   "source": [
    "# Data Loader for easy mini-batch return in training, the image batch shape will be (50, 1, 28, 28)\n",
    "train_loader = Data.DataLoader(dataset=train_data, batch_size=BATCH_SIZE, shuffle=True)"
   ]
  },
  {
   "cell_type": "code",
   "execution_count": 7,
   "metadata": {},
   "outputs": [
    {
     "name": "stdout",
     "output_type": "stream",
     "text": [
      "Currently running on: cuda\n"
     ]
    }
   ],
   "source": [
    "# Select which device to use, use the gpu if available\n",
    "device = torch.device(\"cuda\" if torch.cuda.is_available() else \"cpu\")\n",
    "print(\"Currently running on:\", device)"
   ]
  },
  {
   "cell_type": "code",
   "execution_count": 8,
   "metadata": {},
   "outputs": [
    {
     "name": "stdout",
     "output_type": "stream",
     "text": [
      "Autoencoder in Cuda: True\n"
     ]
    }
   ],
   "source": [
    "# autoencoder = autoencoders.IncrementalAutoEncoder().to(device)\n",
    "used_autoencoder = getattr(autoencoders, MODEL)\n",
    "autoencoder = used_autoencoder().to(device)\n",
    "\n",
    "print(\"Autoencoder in Cuda:\", next(autoencoder.parameters()).is_cuda)\n",
    "autoencoder.train()\n",
    "\n",
    "optimizer = torch.optim.Adam(autoencoder.parameters(), lr=LR)\n",
    "loss_func = nn.MSELoss().to(device)"
   ]
  },
  {
   "cell_type": "code",
   "execution_count": 9,
   "metadata": {},
   "outputs": [],
   "source": [
    "# original data (first row) for viewing\n",
    "view_data = train_data.data[:N_TEST_IMG].view(-1, 28*28).type(torch.FloatTensor).to(device)"
   ]
  },
  {
   "cell_type": "code",
   "execution_count": 10,
   "metadata": {},
   "outputs": [
    {
     "name": "stdout",
     "output_type": "stream",
     "text": [
      "Epoch:  9 | Average train loss: 0.0167\n"
     ]
    },
    {
     "data": {
      "image/png": "[encoded data removed]",
      "text/plain": [
       "<Figure size 432x288 with 1 Axes>"
      ]
     },
     "metadata": {},
     "output_type": "display_data"
    },
    {
     "name": "stdout",
     "output_type": "stream",
     "text": [
      "Done training!\n",
      "CPU times: user 1min 18s, sys: 646 ms, total: 1min 19s\n",
      "Wall time: 1min 29s\n"
     ]
    },
    {
     "data": {
      "image/png": "[encoded data removed]",
      "text/plain": [
       "<Figure size 432x288 with 1 Axes>"
      ]
     },
     "metadata": {
      "needs_background": "light"
     },
     "output_type": "display_data"
    }
   ],
   "source": [
    "%%time\n",
    "\n",
    "loss_list = []\n",
    "\n",
    "pl.plot([],[])\n",
    "pl.xlim(0, EPOCH)\n",
    "pl.title(MODEL)\n",
    "pl.xlabel(\"Epoch\")\n",
    "pl.ylabel(\"Loss\")\n",
    "\n",
    "for epoch in range(EPOCH):\n",
    "    loss_list = []\n",
    "    for step, (x, _) in enumerate(train_loader):\n",
    "        batch = x.view(-1, 28*28).to(device)\n",
    "\n",
    "        encoded, decoded = autoencoder(batch)\n",
    "#         print(encoded[0])\n",
    "\n",
    "        loss = loss_func(decoded, batch)   # mean square error\n",
    "        optimizer.zero_grad()               # clear gradients for this training step\n",
    "        loss.backward()                     # backpropagation, compute gradients\n",
    "        optimizer.step()                    # apply gradients\n",
    "\n",
    "        loss_list.append(loss.item())\n",
    "\n",
    "        if step % 500 == 0 and (epoch % 5 == 0 or epoch == EPOCH-1) and not SHOW_LOSS:        \n",
    "            print('Epoch: ', epoch, '| train loss: %.4f' % loss.item())\n",
    "\n",
    "            # plotting decoded image (second row)\n",
    "            _, decoded_data = autoencoder(view_data)\n",
    "\n",
    "            # initialize figure\n",
    "            f, a = plt.subplots(2, N_TEST_IMG, figsize=(N_TEST_IMG, 2))\n",
    "\n",
    "            for i in range(N_TEST_IMG):\n",
    "                a[0][i].imshow(np.reshape(view_data.data.cpu().numpy()[i], (28, 28)), cmap='gray')\n",
    "                a[0][i].set_xticks(())\n",
    "                a[0][i].set_yticks(())\n",
    "\n",
    "            for i in range(N_TEST_IMG):\n",
    "                a[1][i].clear()\n",
    "                a[1][i].imshow(np.reshape(decoded_data.data.cpu().numpy()[i], (28, 28)), cmap='gray')\n",
    "                a[1][i].set_xticks(())\n",
    "                a[1][i].set_yticks(())\n",
    "            plt.show(); plt.pause(0.05)\n",
    "\n",
    "    if SHOW_LOSS:\n",
    "        position_list = []\n",
    "        for i in range(len(loss_list)):\n",
    "            position_list.append(i/n_loss_per_step + epoch)\n",
    "        pl.plot(position_list, loss_list)\n",
    "        display.clear_output(wait=True)\n",
    "        print('Epoch: ', epoch, '| Average train loss: %.4f' % np.mean(loss_list))\n",
    "        display.display(pl.gcf())\n",
    "        time.sleep(1.0)\n",
    "        \n",
    "torch.save(autoencoder.state_dict(), \"./Trained Models/\" + MODEL + \".pt\")\n",
    "torch.cuda.empty_cache()\n",
    "\n",
    "print(\"Done training!\")"
   ]
  },
  {
   "cell_type": "code",
   "execution_count": 11,
   "metadata": {},
   "outputs": [
    {
     "data": {
      "text/plain": [
       "array([], dtype=float64)"
      ]
     },
     "execution_count": 11,
     "metadata": {},
     "output_type": "execute_result"
    }
   ],
   "source": []
  }
 ],
 "metadata": {
  "kernelspec": {
   "display_name": "Python 3",
   "language": "python",
   "name": "python3"
  },
  "language_info": {
   "codemirror_mode": {
    "name": "ipython",
    "version": 3
   },
   "file_extension": ".py",
   "mimetype": "text/x-python",
   "name": "python",
   "nbconvert_exporter": "python",
   "pygments_lexer": "ipython3",
   "version": "3.7.3"
  }
 },
 "nbformat": 4,
 "nbformat_minor": 2
}
