{
 "cells": [
  {
   "cell_type": "code",
   "execution_count": 1,
   "metadata": {},
   "outputs": [],
   "source": [
    "# Imports\n",
    "import torch\n",
    "import torch.nn as nn\n",
    "from torch.autograd import Variable\n",
    "import torch.utils.data as Data\n",
    "import torchvision\n",
    "\n",
    "import matplotlib.pyplot as plt\n",
    "\n",
    "import numpy as np\n",
    "\n",
    "from pyro.distributions.relaxed_straight_through import RelaxedBernoulliStraightThrough\n",
    "\n",
    "import autoencoders"
   ]
  },
  {
   "cell_type": "code",
   "execution_count": 2,
   "metadata": {},
   "outputs": [],
   "source": [
    "# Set seed for reproduciblity\n",
    "torch.manual_seed(7212)\n",
    "np.random.seed(2980)"
   ]
  },
  {
   "cell_type": "code",
   "execution_count": 3,
   "metadata": {},
   "outputs": [],
   "source": [
    "MODEL = 'IncrementalAutoEncoder'"
   ]
  },
  {
   "cell_type": "code",
   "execution_count": 4,
   "metadata": {},
   "outputs": [],
   "source": [
    "# Mnist digits dataset (download if necessary)\n",
    "train_data = torchvision.datasets.FashionMNIST(\n",
    "    root='./Datasets/fashion-mnist/',\n",
    "    train=False,\n",
    "    transform=torchvision.transforms.ToTensor(),                        \n",
    "    download=False,\n",
    ")"
   ]
  },
  {
   "cell_type": "code",
   "execution_count": 5,
   "metadata": {},
   "outputs": [
    {
     "name": "stdout",
     "output_type": "stream",
     "text": [
      "Currently running on: cuda\n"
     ]
    }
   ],
   "source": [
    "# Select which device to use, use the gpu if available\n",
    "device = torch.device(\"cuda\" if torch.cuda.is_available() else \"cpu\")\n",
    "print(\"Currently running on:\", device)"
   ]
  },
  {
   "cell_type": "code",
   "execution_count": 6,
   "metadata": {},
   "outputs": [
    {
     "name": "stdout",
     "output_type": "stream",
     "text": [
      "Autoencoder in Cuda: True\n"
     ]
    }
   ],
   "source": [
    "used_autoencoder = getattr(autoencoders, MODEL)\n",
    "autoencoder = used_autoencoder().to(device)\n",
    "\n",
    "autoencoder.load_state_dict(torch.load(\"./Trained Models/\" + MODEL + \".pt\"))\n",
    "autoencoder.eval()\n",
    "print(\"Autoencoder in Cuda:\", next(autoencoder.parameters()).is_cuda)"
   ]
  },
  {
   "cell_type": "code",
   "execution_count": 7,
   "metadata": {},
   "outputs": [
    {
     "name": "stdout",
     "output_type": "stream",
     "text": [
      "tensor([0., 1., 0., 0., 1., 1., 1., 0., 0., 1., 1., 0., 0., 1., 0., 0., 1., 0.,\n",
      "        1., 0., 1., 0., 0., 0., 1., 0., 1., 0., 1., 0., 1., 1., 0., 0., 0., 1.,\n",
      "        1., 1., 0., 1., 1., 0., 1., 1., 0., 0., 1., 0., 1., 1., 0., 1., 0., 1.,\n",
      "        0., 1., 1., 0., 1., 0., 1., 1., 0., 0., 0., 0., 1., 1., 1., 1., 0., 0.,\n",
      "        0., 1., 0., 1., 0., 0., 1., 1., 1., 0., 0., 0., 1., 0., 0., 1., 1., 1.,\n",
      "        1., 0., 1., 0., 1., 0., 0., 0., 1., 1., 0., 0., 1., 1., 0., 1., 1., 0.,\n",
      "        1., 1., 1., 1., 0., 0., 0., 0., 0., 0., 1., 0., 1., 0., 1., 1., 0., 1.,\n",
      "        1., 0., 0., 0., 0., 1., 0., 1., 1., 0., 1., 0., 0., 0., 0., 1., 0., 1.,\n",
      "        1., 1., 0., 0., 0., 0., 1., 1., 1., 1., 1., 1., 1., 1., 0., 1., 1., 1.,\n",
      "        0., 0., 0., 1., 0., 0., 0., 0., 0., 0., 1., 0., 0., 1., 1., 0., 1., 0.,\n",
      "        1., 0., 0., 1., 0., 0., 1., 0., 0., 1., 1., 1., 0., 1., 0., 0., 1., 0.,\n",
      "        0., 1., 0., 0., 0., 1., 1., 1., 1., 1., 1., 1., 0., 0., 0., 1., 0., 0.,\n",
      "        0., 1., 0., 1., 1., 0., 0., 1., 1., 1., 0., 1., 0., 0., 1., 1., 0., 0.,\n",
      "        0., 0., 0., 1., 0., 0., 1., 1., 1., 1., 1., 0., 1., 1., 1., 1., 0., 0.,\n",
      "        0., 0., 1., 0.], device='cuda:0', grad_fn=<SelectBackward>)\n"
     ]
    },
    {
     "data": {
      "image/png": "[encoded data removed]",
      "text/plain": [
       "<Figure size 720x144 with 20 Axes>"
      ]
     },
     "metadata": {},
     "output_type": "display_data"
    }
   ],
   "source": [
    "TEST_IMAGES = 10\n",
    "SHIFT = 10\n",
    "\n",
    "test_images = train_data.data[SHIFT:TEST_IMAGES+SHIFT].view(-1, 28*28).type(torch.FloatTensor).to(device)\n",
    "\n",
    "# test_images = torch.randn(10, 784).to(device) # Random noise\n",
    "\n",
    "encoded_test_images, decoded_test_images = autoencoder(test_images)\n",
    "\n",
    "print(encoded_test_images[0])\n",
    "f, a = plt.subplots(2, TEST_IMAGES, figsize=(TEST_IMAGES, 2))\n",
    "\n",
    "for i in range(TEST_IMAGES):\n",
    "    a[0][i].imshow(np.reshape(test_images.data.cpu().numpy()[i], (28, 28)), cmap='gray')\n",
    "    a[0][i].set_xticks(())\n",
    "    a[0][i].set_yticks(())\n",
    "\n",
    "for i in range(TEST_IMAGES):\n",
    "    a[1][i].clear()\n",
    "    a[1][i].imshow(np.reshape(decoded_test_images.data.cpu().numpy()[i], (28, 28)), cmap='gray')\n",
    "    a[1][i].set_xticks(()); a[1][i].set_yticks(())"
   ]
  }
 ],
 "metadata": {
  "kernelspec": {
   "display_name": "Python 3",
   "language": "python",
   "name": "python3"
  },
  "language_info": {
   "codemirror_mode": {
    "name": "ipython",
    "version": 3
   },
   "file_extension": ".py",
   "mimetype": "text/x-python",
   "name": "python",
   "nbconvert_exporter": "python",
   "pygments_lexer": "ipython3",
   "version": "3.7.3"
  }
 },
 "nbformat": 4,
 "nbformat_minor": 2
}
