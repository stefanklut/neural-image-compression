{
 "cells": [
  {
   "cell_type": "code",
   "execution_count": 1,
   "metadata": {},
   "outputs": [],
   "source": [
    "# Imports\n",
    "import torch\n",
    "import torch.nn as nn\n",
    "from torch.autograd import Variable\n",
    "import torch.utils.data as Data\n",
    "import torchvision\n",
    "\n",
    "import matplotlib.pyplot as plt\n",
    "\n",
    "import numpy as np\n",
    "\n",
    "from pyro.distributions.relaxed_straight_through import RelaxedBernoulliStraightThrough\n",
    "\n",
    "import autoencoders\n",
    "from torchvision.datasets import Omniglot\n",
    "\n",
    "from skimage.measure import compare_ssim as ssim\n",
    "from skimage.measure import compare_mse as mse\n",
    "from skimage.measure import compare_psnr as psnr\n",
    "from skimage.measure import compare_nrmse as nrmse\n",
    "\n",
    "import pandas as pd"
   ]
  },
  {
   "cell_type": "code",
   "execution_count": 2,
   "metadata": {},
   "outputs": [],
   "source": [
    "# Set seed for reproduciblity\n",
    "torch.manual_seed(7212)\n",
    "np.random.seed(2980)"
   ]
  },
  {
   "cell_type": "code",
   "execution_count": 3,
   "metadata": {},
   "outputs": [],
   "source": [
    "# Select which dataset to use\n",
    "dataset_name = \"fashion-mnist\"\n",
    "training = False\n",
    "img_size = 28\n",
    "\n",
    "if dataset_name == \"mnist\":\n",
    "    # Mnist digits dataset (download if necessary)\n",
    "    data = torchvision.datasets.MNIST(\n",
    "        root='./Datasets/mnist/',\n",
    "        train=training,\n",
    "        transform=torchvision.transforms.ToTensor(),                        \n",
    "        download=False,\n",
    "    )\n",
    "\n",
    "elif dataset_name == \"fashion-mnist\":\n",
    "    # Fashion Mnist clothing dataset (download if necessary)\n",
    "    data = torchvision.datasets.FashionMNIST(\n",
    "        root='./Datasets/fashion-mnist/',\n",
    "        train=training,\n",
    "        transform=torchvision.transforms.ToTensor(),                        \n",
    "        download=False,\n",
    "    )\n",
    "    \n",
    "elif dataset_name == \"kmnist\":\n",
    "    # Kuzushiji Mnist Japanese characters dataset (download if necessary)\n",
    "    data = torchvision.datasets.KMNIST(\n",
    "        root='./Datasets/kmnist/',\n",
    "        train=training,\n",
    "        transform=torchvision.transforms.ToTensor(),                        \n",
    "        download=False,\n",
    "    )\n",
    "\n",
    "else:\n",
    "    print(\"Could not find dataset\")\n",
    "    \n",
    "# Get the name of the dataset for saving the trained models\n",
    "save_extention = data.__class__.__name__"
   ]
  },
  {
   "cell_type": "code",
   "execution_count": 4,
   "metadata": {},
   "outputs": [
    {
     "name": "stdout",
     "output_type": "stream",
     "text": [
      "Currently running on: cuda\n"
     ]
    }
   ],
   "source": [
    "# Select which device to use, use the gpu if available\n",
    "device = torch.device(\"cuda\" if torch.cuda.is_available() else \"cpu\")\n",
    "print(\"Currently running on:\", device)"
   ]
  },
  {
   "cell_type": "code",
   "execution_count": 5,
   "metadata": {},
   "outputs": [],
   "source": [
    "def load_autoencoder(model_name, saved_as=None, run_on=\"cpu\"):\n",
    "    \n",
    "    # Set the save name to the model name if no name was specified\n",
    "    if not saved_as:\n",
    "        saved_as = model_name + save_extention\n",
    "    \n",
    "    # Select what type of autoencoder to load\n",
    "    used_autoencoder = getattr(autoencoders, model_name)\n",
    "    autoencoder = used_autoencoder().to(run_on)\n",
    "\n",
    "    # Load the weights from the saved file\n",
    "    autoencoder.load_state_dict(torch.load(\"./Trained Models/\" + saved_as + \".pt\", ))\n",
    "    \n",
    "    # Set the training flag to False\n",
    "    autoencoder.eval()\n",
    "    \n",
    "    print(\"Loaded:\", model_name, \"| In Cuda:\", next(autoencoder.parameters()).is_cuda)\n",
    "    return autoencoder"
   ]
  },
  {
   "cell_type": "code",
   "execution_count": 6,
   "metadata": {},
   "outputs": [
    {
     "name": "stdout",
     "output_type": "stream",
     "text": [
      "Loaded: IncrementalAutoEncoder | In Cuda: True\n",
      "Loaded: RandomAutoEncoder | In Cuda: True\n",
      "Loaded: AutoEncoder | In Cuda: True\n"
     ]
    }
   ],
   "source": [
    "# Load saved weights to autoencoder models\n",
    "incremental_autoencoder = load_autoencoder(\"IncrementalAutoEncoder\", run_on=device)\n",
    "random_autoencoder = load_autoencoder(\"RandomAutoEncoder\", run_on=device)\n",
    "autoencoder = load_autoencoder(\"AutoEncoder\", run_on=device)"
   ]
  },
  {
   "cell_type": "code",
   "execution_count": 7,
   "metadata": {},
   "outputs": [],
   "source": [
    "def autoencoder_evaluation(autoencoder, test_data, compare_function=mse, corruption_type=None, display_img=False):\n",
    "    results = []\n",
    "    \n",
    "    # Store the data in one large tensor\n",
    "    test_images = test_data.data.view(-1, img_size*img_size).type(torch.FloatTensor).to(device)/255\n",
    "    \n",
    "    # Get the number of images\n",
    "    n_images = len(test_images)\n",
    "    \n",
    "    # Encode the images in binary form\n",
    "    encoded_images = autoencoder.encoder(test_images)\n",
    "    binary_encoded = RelaxedBernoulliStraightThrough(1, logits=encoded_images).rsample()\n",
    "    \n",
    "    x,y = binary_encoded.shape\n",
    "    \n",
    "    # Loop to add more and more corruption\n",
    "    for k in range(0, y+1, 8):\n",
    "        # Add corruption\n",
    "        if corruption_type in [\"random\", \"incremental\", \"reverse_incremental\"]:\n",
    "            # Create a mask with ones at the end\n",
    "            bit_map = np.concatenate((np.zeros((x,y-k)), np.ones((x, k))), axis=1)\n",
    "            # Flip if the corruption should be at the front\n",
    "            if corruption_type == \"reverse_incremental\":\n",
    "                bit_map = np.flip(bit_map, 1)\n",
    "            # Shuffle if the corruption should be in random positions\n",
    "            if corruption_type == \"random\":\n",
    "                for row in bit_map: np.random.shuffle(row)\n",
    "            \n",
    "            mask = np.where(bit_map)\n",
    "            \n",
    "            # Replace masked values with random zeroes and ones\n",
    "            binary_encoded[mask] = torch.distributions.Bernoulli(probs=(torch.ones(x,y)/2)).sample().to(device)[mask]\n",
    "        else:\n",
    "            print(\"Failed to recognize the corruption type. Should be either incremental, reverse_incremental or random\")\n",
    "            return None\n",
    "\n",
    "        # Decode the binary form back to an image\n",
    "        decoded_images = autoencoder.decoder(binary_encoded)\n",
    "    \n",
    "        for i in range(n_images):\n",
    "            # Specify the original image and the decoded image\n",
    "            test_image = test_images[i].cpu().detach().numpy()\n",
    "            decoded_test_image = decoded_images[i].cpu().detach().numpy()\n",
    "            if display_img and i == 999:\n",
    "                displayed_image = decoded_test_image\n",
    "            \n",
    "            # Save the results in a dict to add to the list\n",
    "            results.append({\"model\": autoencoder.__class__.__name__, \n",
    "                            \"metric\": compare_function.__name__,\n",
    "                            \"value\": compare_function(test_image, decoded_test_image), \n",
    "                            \"corruption_type\": corruption_type, \n",
    "                            \"corruption_percentage\": k/y})\n",
    "        \n",
    "        # Display the image that has been corrupted\n",
    "        if display_img:\n",
    "            print(\"Model used:\", autoencoder.__class__.__name__)\n",
    "            print(\"Current corruption:\", k)\n",
    "            print(compare_function.__name__, \":\", similarity_value)\n",
    "            plt.clf()\n",
    "            plt.axis('off')\n",
    "            plt.imshow(np.reshape(displayed_image, (img_size,img_size\n",
    "                                                   )), cmap='gray')\n",
    "            plt.show(); plt.pause(0.05)\n",
    "\n",
    "    return results"
   ]
  },
  {
   "cell_type": "code",
   "execution_count": 8,
   "metadata": {},
   "outputs": [],
   "source": [
    "# Initial empty results\n",
    "results = []"
   ]
  },
  {
   "cell_type": "code",
   "execution_count": 9,
   "metadata": {},
   "outputs": [
    {
     "name": "stdout",
     "output_type": "stream",
     "text": [
      "990000\n",
      "CPU times: user 2min 28s, sys: 3.74 s, total: 2min 32s\n",
      "Wall time: 1min 21s\n"
     ]
    }
   ],
   "source": [
    "%%time\n",
    "\n",
    "# Add MSE with incremental corruption to the results\n",
    "results += autoencoder_evaluation(incremental_autoencoder, data, compare_function=mse, corruption_type=\"incremental\")\n",
    "results += autoencoder_evaluation(autoencoder, data, compare_function=mse, corruption_type=\"incremental\")\n",
    "results += autoencoder_evaluation(random_autoencoder, data, compare_function=mse, corruption_type=\"incremental\")\n",
    "\n",
    "print(len(results))"
   ]
  },
  {
   "cell_type": "code",
   "execution_count": 10,
   "metadata": {},
   "outputs": [
    {
     "name": "stdout",
     "output_type": "stream",
     "text": [
      "1980000\n",
      "CPU times: user 5min 58s, sys: 4.07 s, total: 6min 2s\n",
      "Wall time: 4min 51s\n"
     ]
    }
   ],
   "source": [
    "%%time\n",
    "\n",
    "# Add SSIM with incremental corruption to the results\n",
    "results += autoencoder_evaluation(incremental_autoencoder, data, compare_function=ssim, corruption_type=\"incremental\")\n",
    "results += autoencoder_evaluation(autoencoder, data, compare_function=ssim, corruption_type=\"incremental\")\n",
    "results += autoencoder_evaluation(random_autoencoder, data, compare_function=ssim, corruption_type=\"incremental\")\n",
    "\n",
    "print(len(results))"
   ]
  },
  {
   "cell_type": "code",
   "execution_count": 11,
   "metadata": {},
   "outputs": [
    {
     "name": "stdout",
     "output_type": "stream",
     "text": [
      "2970000\n",
      "CPU times: user 3min 5s, sys: 3.66 s, total: 3min 9s\n",
      "Wall time: 1min 57s\n"
     ]
    }
   ],
   "source": [
    "%%time\n",
    "\n",
    "# Add PSNR with incremental corruption to the results\n",
    "results += autoencoder_evaluation(incremental_autoencoder, data, compare_function=psnr, corruption_type=\"incremental\")\n",
    "results += autoencoder_evaluation(autoencoder, data, compare_function=psnr, corruption_type=\"incremental\")\n",
    "results += autoencoder_evaluation(random_autoencoder, data, compare_function=psnr, corruption_type=\"incremental\")\n",
    "\n",
    "print(len(results))"
   ]
  },
  {
   "cell_type": "code",
   "execution_count": 12,
   "metadata": {},
   "outputs": [
    {
     "name": "stdout",
     "output_type": "stream",
     "text": [
      "3960000\n",
      "CPU times: user 2min 43s, sys: 3.48 s, total: 2min 46s\n",
      "Wall time: 1min 35s\n"
     ]
    }
   ],
   "source": [
    "%%time\n",
    "\n",
    "# Add NRMSE with incremental corruption to the results\n",
    "results += autoencoder_evaluation(incremental_autoencoder, data, compare_function=nrmse, corruption_type=\"incremental\")\n",
    "results += autoencoder_evaluation(autoencoder, data, compare_function=nrmse, corruption_type=\"incremental\")\n",
    "results += autoencoder_evaluation(random_autoencoder, data, compare_function=nrmse, corruption_type=\"incremental\")\n",
    "\n",
    "print(len(results))"
   ]
  },
  {
   "cell_type": "code",
   "execution_count": 13,
   "metadata": {},
   "outputs": [
    {
     "name": "stdout",
     "output_type": "stream",
     "text": [
      "4950000\n",
      "CPU times: user 2min 32s, sys: 3.49 s, total: 2min 35s\n",
      "Wall time: 1min 23s\n"
     ]
    }
   ],
   "source": [
    "%%time\n",
    "\n",
    "# Add MSE with reverse incremental corruption to the results\n",
    "results += autoencoder_evaluation(incremental_autoencoder, data, compare_function=mse, corruption_type=\"reverse_incremental\")\n",
    "results += autoencoder_evaluation(autoencoder, data, compare_function=mse, corruption_type=\"reverse_incremental\")\n",
    "results += autoencoder_evaluation(random_autoencoder, data, compare_function=mse, corruption_type=\"reverse_incremental\")\n",
    "\n",
    "print(len(results))"
   ]
  },
  {
   "cell_type": "code",
   "execution_count": 14,
   "metadata": {},
   "outputs": [
    {
     "name": "stdout",
     "output_type": "stream",
     "text": [
      "5940000\n",
      "CPU times: user 5min 37s, sys: 3.46 s, total: 5min 40s\n",
      "Wall time: 4min 28s\n"
     ]
    }
   ],
   "source": [
    "%%time\n",
    "\n",
    "# Add SSIM with reverse incremental corruption to the results\n",
    "results += autoencoder_evaluation(incremental_autoencoder, data, compare_function=ssim, corruption_type=\"reverse_incremental\")\n",
    "results += autoencoder_evaluation(autoencoder, data, compare_function=ssim, corruption_type=\"reverse_incremental\")\n",
    "results += autoencoder_evaluation(random_autoencoder, data, compare_function=ssim, corruption_type=\"reverse_incremental\")\n",
    "\n",
    "print(len(results))"
   ]
  },
  {
   "cell_type": "code",
   "execution_count": 15,
   "metadata": {},
   "outputs": [
    {
     "name": "stdout",
     "output_type": "stream",
     "text": [
      "6930000\n",
      "CPU times: user 2min 51s, sys: 3.51 s, total: 2min 54s\n",
      "Wall time: 1min 43s\n"
     ]
    }
   ],
   "source": [
    "%%time\n",
    "\n",
    "# Add PSNR with reverse incremental corruption to the results\n",
    "results += autoencoder_evaluation(incremental_autoencoder, data, compare_function=psnr, corruption_type=\"reverse_incremental\")\n",
    "results += autoencoder_evaluation(autoencoder, data, compare_function=psnr, corruption_type=\"reverse_incremental\")\n",
    "results += autoencoder_evaluation(random_autoencoder, data, compare_function=psnr, corruption_type=\"reverse_incremental\")\n",
    "\n",
    "print(len(results))"
   ]
  },
  {
   "cell_type": "code",
   "execution_count": 16,
   "metadata": {},
   "outputs": [
    {
     "name": "stdout",
     "output_type": "stream",
     "text": [
      "7920000\n",
      "CPU times: user 2min 46s, sys: 3.47 s, total: 2min 49s\n",
      "Wall time: 1min 37s\n"
     ]
    }
   ],
   "source": [
    "%%time\n",
    "\n",
    "# Add NRMSE with reverse incremental corruption to the results\n",
    "results += autoencoder_evaluation(incremental_autoencoder, data, compare_function=nrmse, corruption_type=\"reverse_incremental\")\n",
    "results += autoencoder_evaluation(autoencoder, data, compare_function=nrmse, corruption_type=\"reverse_incremental\")\n",
    "results += autoencoder_evaluation(random_autoencoder, data, compare_function=nrmse, corruption_type=\"reverse_incremental\")\n",
    "\n",
    "print(len(results))"
   ]
  },
  {
   "cell_type": "code",
   "execution_count": 17,
   "metadata": {},
   "outputs": [
    {
     "name": "stdout",
     "output_type": "stream",
     "text": [
      "8910000\n",
      "CPU times: user 3min 12s, sys: 3.54 s, total: 3min 15s\n",
      "Wall time: 2min\n"
     ]
    }
   ],
   "source": [
    "%%time\n",
    "\n",
    "# Add MSE with random corruption to the results\n",
    "results += autoencoder_evaluation(incremental_autoencoder, data, compare_function=mse, corruption_type=\"random\")\n",
    "results += autoencoder_evaluation(autoencoder, data, compare_function=mse, corruption_type=\"random\")\n",
    "results += autoencoder_evaluation(random_autoencoder, data, compare_function=mse, corruption_type=\"random\")\n",
    "\n",
    "print(len(results))"
   ]
  },
  {
   "cell_type": "code",
   "execution_count": 18,
   "metadata": {},
   "outputs": [
    {
     "name": "stdout",
     "output_type": "stream",
     "text": [
      "9900000\n",
      "CPU times: user 6min 11s, sys: 3.71 s, total: 6min 15s\n",
      "Wall time: 5min\n"
     ]
    }
   ],
   "source": [
    "%%time\n",
    "\n",
    "# Add SSIM with random corruption to the results\n",
    "results += autoencoder_evaluation(incremental_autoencoder, data, compare_function=ssim, corruption_type=\"random\")\n",
    "results += autoencoder_evaluation(autoencoder, data, compare_function=ssim, corruption_type=\"random\")\n",
    "results += autoencoder_evaluation(random_autoencoder, data, compare_function=ssim, corruption_type=\"random\")\n",
    "\n",
    "print(len(results))"
   ]
  },
  {
   "cell_type": "code",
   "execution_count": 19,
   "metadata": {},
   "outputs": [
    {
     "name": "stdout",
     "output_type": "stream",
     "text": [
      "10890000\n",
      "CPU times: user 3min 33s, sys: 3.27 s, total: 3min 36s\n",
      "Wall time: 2min 22s\n"
     ]
    }
   ],
   "source": [
    "%%time\n",
    "\n",
    "# Add PSNR with random corruption to the results\n",
    "results += autoencoder_evaluation(incremental_autoencoder, data, compare_function=psnr, corruption_type=\"random\")\n",
    "results += autoencoder_evaluation(autoencoder, data, compare_function=psnr, corruption_type=\"random\")\n",
    "results += autoencoder_evaluation(random_autoencoder, data, compare_function=psnr, corruption_type=\"random\")\n",
    "\n",
    "print(len(results))"
   ]
  },
  {
   "cell_type": "code",
   "execution_count": 20,
   "metadata": {},
   "outputs": [
    {
     "name": "stdout",
     "output_type": "stream",
     "text": [
      "11880000\n",
      "CPU times: user 3min 27s, sys: 3.59 s, total: 3min 30s\n",
      "Wall time: 2min 16s\n"
     ]
    }
   ],
   "source": [
    "%%time\n",
    "\n",
    "# Add NRMSE with random corruption to the results\n",
    "results += autoencoder_evaluation(incremental_autoencoder, data, compare_function=nrmse, corruption_type=\"random\")\n",
    "results += autoencoder_evaluation(autoencoder, data, compare_function=nrmse, corruption_type=\"random\")\n",
    "results += autoencoder_evaluation(random_autoencoder, data, compare_function=nrmse, corruption_type=\"random\")\n",
    "\n",
    "print(len(results))"
   ]
  },
  {
   "cell_type": "code",
   "execution_count": 21,
   "metadata": {},
   "outputs": [],
   "source": [
    "# Convert the list of results to a pandas dataframe\n",
    "df = pd.DataFrame(results)\n",
    "\n",
    "# Save the dataframe to a pickle file\n",
    "df.to_pickle(\"./Dataframes/\" + save_extention + \"_DF.pkl\")"
   ]
  },
  {
   "cell_type": "code",
   "execution_count": null,
   "metadata": {},
   "outputs": [],
   "source": []
  }
 ],
 "metadata": {
  "kernelspec": {
   "display_name": "Python 3",
   "language": "python",
   "name": "python3"
  },
  "language_info": {
   "codemirror_mode": {
    "name": "ipython",
    "version": 3
   },
   "file_extension": ".py",
   "mimetype": "text/x-python",
   "name": "python",
   "nbconvert_exporter": "python",
   "pygments_lexer": "ipython3",
   "version": "3.7.3"
  }
 },
 "nbformat": 4,
 "nbformat_minor": 2
}
