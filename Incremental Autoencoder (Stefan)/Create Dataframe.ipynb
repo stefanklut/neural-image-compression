{
 "cells": [
  {
   "cell_type": "code",
   "execution_count": 1,
   "metadata": {},
   "outputs": [],
   "source": [
    "# Imports\n",
    "import torch\n",
    "import torch.nn as nn\n",
    "from torch.autograd import Variable\n",
    "import torch.utils.data as Data\n",
    "import torchvision\n",
    "\n",
    "import matplotlib.pyplot as plt\n",
    "\n",
    "import numpy as np\n",
    "\n",
    "from pyro.distributions.relaxed_straight_through import RelaxedBernoulliStraightThrough\n",
    "\n",
    "import autoencoders\n",
    "\n",
    "from skimage.measure import compare_ssim as ssim\n",
    "from skimage.measure import compare_mse as mse\n",
    "from skimage.measure import compare_psnr as psnr\n",
    "from skimage.measure import compare_nrmse as nrmse\n",
    "\n",
    "import pandas as pd\n",
    "import seaborn"
   ]
  },
  {
   "cell_type": "code",
   "execution_count": 2,
   "metadata": {},
   "outputs": [],
   "source": [
    "# Set seed for reproduciblity\n",
    "torch.manual_seed(7212)\n",
    "np.random.seed(2980)"
   ]
  },
  {
   "cell_type": "code",
   "execution_count": 3,
   "metadata": {},
   "outputs": [],
   "source": [
    "# Mnist digits dataset (download if necessary)\n",
    "test_data = torchvision.datasets.MNIST(\n",
    "    root='./Datasets/mnist/',\n",
    "    train=False,\n",
    "    transform=torchvision.transforms.ToTensor(),                        \n",
    "    download=False,\n",
    ")\n",
    "\n",
    "save_extention = test_data.__class__.__name__"
   ]
  },
  {
   "cell_type": "code",
   "execution_count": 4,
   "metadata": {},
   "outputs": [
    {
     "name": "stdout",
     "output_type": "stream",
     "text": [
      "Currently running on: cuda\n"
     ]
    }
   ],
   "source": [
    "# Select which device to use, use the gpu if available\n",
    "device = torch.device(\"cuda\" if torch.cuda.is_available() else \"cpu\")\n",
    "print(\"Currently running on:\", device)"
   ]
  },
  {
   "cell_type": "code",
   "execution_count": 5,
   "metadata": {},
   "outputs": [],
   "source": [
    "def load_autoencoder(model_name, saved_as=None, run_on=\"cpu\"):\n",
    "    \n",
    "    # Set the save name to the model name if no name was specified\n",
    "    if not saved_as:\n",
    "        saved_as = model_name + save_extention\n",
    "    \n",
    "    # Select what type of autoencoder to load\n",
    "    used_autoencoder = getattr(autoencoders, model_name)\n",
    "    autoencoder = used_autoencoder().to(run_on)\n",
    "\n",
    "    # Load the weights from the saved file\n",
    "    autoencoder.load_state_dict(torch.load(\"./Trained Models/\" + saved_as + \".pt\", ))\n",
    "    \n",
    "    # Set the training flag to False\n",
    "    autoencoder.eval()\n",
    "    \n",
    "    print(\"Loaded:\", model_name, \"| In Cuda:\", next(autoencoder.parameters()).is_cuda)\n",
    "    return autoencoder"
   ]
  },
  {
   "cell_type": "code",
   "execution_count": 6,
   "metadata": {},
   "outputs": [
    {
     "name": "stdout",
     "output_type": "stream",
     "text": [
      "Loaded: IncrementalAutoEncoder | In Cuda: True\n",
      "Loaded: RandomAutoEncoder | In Cuda: True\n",
      "Loaded: AutoEncoder | In Cuda: True\n"
     ]
    }
   ],
   "source": [
    "# Load saved weights to autoencoder models\n",
    "incremental_autoencoder = load_autoencoder(\"IncrementalAutoEncoder\", run_on=device)\n",
    "random_autoencoder = load_autoencoder(\"RandomAutoEncoder\", run_on=device)\n",
    "autoencoder = load_autoencoder(\"AutoEncoder\", run_on=device)"
   ]
  },
  {
   "cell_type": "code",
   "execution_count": 7,
   "metadata": {},
   "outputs": [],
   "source": [
    "def autoencoder_evaluation(autoencoder, test_data, compare_function=mse, corruption_type=None, display_img=False):\n",
    "    results = []\n",
    "    \n",
    "    test_images = test_data.data.view(-1, 28*28).type(torch.FloatTensor).to(device)/255\n",
    "    \n",
    "    n_images = len(test_images)\n",
    "    \n",
    "#     encoded_images, decoded_images = autoencoder(test_images)\n",
    "\n",
    "    encoded_images = autoencoder.encoder(test_images)\n",
    "    binary_encoded = RelaxedBernoulliStraightThrough(1, logits=encoded_images).rsample()\n",
    "    \n",
    "    x,y = binary_encoded.shape\n",
    "    \n",
    "    for k in range(0, y+1, 8):\n",
    "        if corruption_type in [\"random\", \"incremental\", \"reverse_incremental\"]:\n",
    "            bit_map = np.concatenate((np.zeros((x,y-k)), np.ones((x, k))), axis=1)\n",
    "            if corruption_type == \"reverse_incremental\":\n",
    "                np.flip(bit_map, 1)\n",
    "            if corruption_type == \"random\":\n",
    "                for row in bit_map: np.random.shuffle(row)\n",
    "            mask = np.where(bit_map)\n",
    "            \n",
    "            binary_encoded[mask] = torch.distributions.Bernoulli(probs=(torch.ones(x,y)/2)).sample().to(device)[mask]\n",
    "        else:\n",
    "            print(\"Failed to recognize the corruption type. Should be either incremental, reverse_incremental or random\")\n",
    "            return None\n",
    "\n",
    "        decoded_images = autoencoder.decoder(binary_encoded)\n",
    "        \n",
    "        total_similarity = 0\n",
    "    \n",
    "        for i in range(n_images):\n",
    "            test_image = test_images[i].cpu().detach().numpy()\n",
    "            decoded_test_image = decoded_images[i].cpu().detach().numpy()\n",
    "            if display_img and i == 999:\n",
    "                displayed_image = decoded_test_image\n",
    "            \n",
    "            results.append({\"model\": autoencoder.__class__.__name__, \n",
    "                            \"metric\": compare_function.__name__,\n",
    "                            \"value\": compare_function(test_image, decoded_test_image), \n",
    "                            \"corruption_type\": corruption_type, \n",
    "                            \"corruption_percentage\": k/y})\n",
    "            \n",
    "#             total_similarity += compare_function(test_image, decoded_test_image)\n",
    "\n",
    "#         similarity_value = total_similarity/n_images\n",
    "        \n",
    "        if display_img:\n",
    "            print(\"Model used:\", autoencoder.__class__.__name__)\n",
    "            print(\"Current corruption:\", k)\n",
    "            print(compare_function.__name__, \":\", similarity_value)\n",
    "            plt.clf()\n",
    "            plt.axis('off')\n",
    "            plt.imshow(np.reshape(displayed_image, (28,28)), cmap='gray')\n",
    "            plt.show(); plt.pause(0.05)\n",
    "            \n",
    "        \n",
    "#         results.append({\"model\": autoencoder.__class__.__name__, \n",
    "#                         \"metric\": compare_function.__name__,\n",
    "#                         \"value\": similarity_value, \n",
    "#                         \"corruption_type\": corruption_type, \n",
    "#                         \"corruption_percentage\": k/y})\n",
    "\n",
    "    return results"
   ]
  },
  {
   "cell_type": "code",
   "execution_count": 8,
   "metadata": {},
   "outputs": [],
   "source": [
    "# Initial empty results\n",
    "results = []"
   ]
  },
  {
   "cell_type": "code",
   "execution_count": 9,
   "metadata": {},
   "outputs": [
    {
     "name": "stdout",
     "output_type": "stream",
     "text": [
      "990000\n",
      "CPU times: user 2min 35s, sys: 3.73 s, total: 2min 39s\n",
      "Wall time: 1min 25s\n"
     ]
    }
   ],
   "source": [
    "%%time\n",
    "\n",
    "# Add MSE with incremental corruption to the results\n",
    "results += autoencoder_evaluation(incremental_autoencoder, test_data, compare_function=mse, corruption_type=\"incremental\")\n",
    "results += autoencoder_evaluation(autoencoder, test_data, compare_function=mse, corruption_type=\"incremental\")\n",
    "results += autoencoder_evaluation(random_autoencoder, test_data, compare_function=mse, corruption_type=\"incremental\")\n",
    "\n",
    "print(len(results))"
   ]
  },
  {
   "cell_type": "code",
   "execution_count": 10,
   "metadata": {},
   "outputs": [
    {
     "name": "stdout",
     "output_type": "stream",
     "text": [
      "1980000\n",
      "CPU times: user 5min 27s, sys: 3.61 s, total: 5min 31s\n",
      "Wall time: 4min 18s\n"
     ]
    }
   ],
   "source": [
    "%%time\n",
    "\n",
    "# Add SSIM with incremental corruption to the results\n",
    "results += autoencoder_evaluation(incremental_autoencoder, test_data, compare_function=ssim, corruption_type=\"incremental\")\n",
    "results += autoencoder_evaluation(autoencoder, test_data, compare_function=ssim, corruption_type=\"incremental\")\n",
    "results += autoencoder_evaluation(random_autoencoder, test_data, compare_function=ssim, corruption_type=\"incremental\")\n",
    "\n",
    "print(len(results))"
   ]
  },
  {
   "cell_type": "code",
   "execution_count": 11,
   "metadata": {},
   "outputs": [
    {
     "name": "stdout",
     "output_type": "stream",
     "text": [
      "2970000\n",
      "CPU times: user 2min 55s, sys: 3.54 s, total: 2min 59s\n",
      "Wall time: 1min 45s\n"
     ]
    }
   ],
   "source": [
    "%%time\n",
    "\n",
    "# Add PSNR with incremental corruption to the results\n",
    "results += autoencoder_evaluation(incremental_autoencoder, test_data, compare_function=psnr, corruption_type=\"incremental\")\n",
    "results += autoencoder_evaluation(autoencoder, test_data, compare_function=psnr, corruption_type=\"incremental\")\n",
    "results += autoencoder_evaluation(random_autoencoder, test_data, compare_function=psnr, corruption_type=\"incremental\")\n",
    "\n",
    "print(len(results))"
   ]
  },
  {
   "cell_type": "code",
   "execution_count": 12,
   "metadata": {},
   "outputs": [
    {
     "name": "stdout",
     "output_type": "stream",
     "text": [
      "3960000\n",
      "CPU times: user 2min 50s, sys: 3.63 s, total: 2min 54s\n",
      "Wall time: 1min 41s\n"
     ]
    }
   ],
   "source": [
    "%%time\n",
    "\n",
    "# Add NRMSE with incremental corruption to the results\n",
    "results += autoencoder_evaluation(incremental_autoencoder, test_data, compare_function=nrmse, corruption_type=\"incremental\")\n",
    "results += autoencoder_evaluation(autoencoder, test_data, compare_function=nrmse, corruption_type=\"incremental\")\n",
    "results += autoencoder_evaluation(random_autoencoder, test_data, compare_function=nrmse, corruption_type=\"incremental\")\n",
    "\n",
    "print(len(results))"
   ]
  },
  {
   "cell_type": "code",
   "execution_count": 13,
   "metadata": {},
   "outputs": [
    {
     "name": "stdout",
     "output_type": "stream",
     "text": [
      "4950000\n",
      "CPU times: user 2min 39s, sys: 4.26 s, total: 2min 43s\n",
      "Wall time: 1min 31s\n"
     ]
    }
   ],
   "source": [
    "%%time\n",
    "\n",
    "# Add MSE with reverse incremental corruption to the results\n",
    "results += autoencoder_evaluation(incremental_autoencoder, test_data, compare_function=mse, corruption_type=\"reverse_incremental\")\n",
    "results += autoencoder_evaluation(autoencoder, test_data, compare_function=mse, corruption_type=\"reverse_incremental\")\n",
    "results += autoencoder_evaluation(random_autoencoder, test_data, compare_function=mse, corruption_type=\"reverse_incremental\")\n",
    "\n",
    "print(len(results))"
   ]
  },
  {
   "cell_type": "code",
   "execution_count": 14,
   "metadata": {},
   "outputs": [
    {
     "name": "stdout",
     "output_type": "stream",
     "text": [
      "5940000\n",
      "CPU times: user 5min 43s, sys: 3.76 s, total: 5min 47s\n",
      "Wall time: 4min 33s\n"
     ]
    }
   ],
   "source": [
    "%%time\n",
    "\n",
    "# Add SSIM with reverse incremental corruption to the results\n",
    "results += autoencoder_evaluation(incremental_autoencoder, test_data, compare_function=ssim, corruption_type=\"reverse_incremental\")\n",
    "results += autoencoder_evaluation(autoencoder, test_data, compare_function=ssim, corruption_type=\"reverse_incremental\")\n",
    "results += autoencoder_evaluation(random_autoencoder, test_data, compare_function=ssim, corruption_type=\"reverse_incremental\")\n",
    "\n",
    "print(len(results))"
   ]
  },
  {
   "cell_type": "code",
   "execution_count": 15,
   "metadata": {},
   "outputs": [
    {
     "name": "stdout",
     "output_type": "stream",
     "text": [
      "6930000\n",
      "CPU times: user 2min 56s, sys: 3.67 s, total: 3min\n",
      "Wall time: 1min 47s\n"
     ]
    }
   ],
   "source": [
    "%%time\n",
    "\n",
    "# Add PSNR with reverse incremental corruption to the results\n",
    "results += autoencoder_evaluation(incremental_autoencoder, test_data, compare_function=psnr, corruption_type=\"reverse_incremental\")\n",
    "results += autoencoder_evaluation(autoencoder, test_data, compare_function=psnr, corruption_type=\"reverse_incremental\")\n",
    "results += autoencoder_evaluation(random_autoencoder, test_data, compare_function=psnr, corruption_type=\"reverse_incremental\")\n",
    "\n",
    "print(len(results))"
   ]
  },
  {
   "cell_type": "code",
   "execution_count": 16,
   "metadata": {},
   "outputs": [
    {
     "name": "stdout",
     "output_type": "stream",
     "text": [
      "7920000\n",
      "CPU times: user 2min 50s, sys: 3.3 s, total: 2min 53s\n",
      "Wall time: 1min 40s\n"
     ]
    }
   ],
   "source": [
    "%%time\n",
    "\n",
    "# Add NRMSE with reverse incremental corruption to the results\n",
    "results += autoencoder_evaluation(incremental_autoencoder, test_data, compare_function=nrmse, corruption_type=\"reverse_incremental\")\n",
    "results += autoencoder_evaluation(autoencoder, test_data, compare_function=nrmse, corruption_type=\"reverse_incremental\")\n",
    "results += autoencoder_evaluation(random_autoencoder, test_data, compare_function=nrmse, corruption_type=\"reverse_incremental\")\n",
    "\n",
    "print(len(results))"
   ]
  },
  {
   "cell_type": "code",
   "execution_count": 17,
   "metadata": {},
   "outputs": [
    {
     "name": "stdout",
     "output_type": "stream",
     "text": [
      "8910000\n",
      "CPU times: user 3min 21s, sys: 3.55 s, total: 3min 24s\n",
      "Wall time: 2min 7s\n"
     ]
    }
   ],
   "source": [
    "%%time\n",
    "\n",
    "# Add MSE with random corruption to the results\n",
    "results += autoencoder_evaluation(incremental_autoencoder, test_data, compare_function=mse, corruption_type=\"random\")\n",
    "results += autoencoder_evaluation(autoencoder, test_data, compare_function=mse, corruption_type=\"random\")\n",
    "results += autoencoder_evaluation(random_autoencoder, test_data, compare_function=mse, corruption_type=\"random\")\n",
    "\n",
    "print(len(results))"
   ]
  },
  {
   "cell_type": "code",
   "execution_count": 18,
   "metadata": {},
   "outputs": [
    {
     "name": "stdout",
     "output_type": "stream",
     "text": [
      "9900000\n",
      "CPU times: user 6min 16s, sys: 3.44 s, total: 6min 19s\n",
      "Wall time: 5min 4s\n"
     ]
    }
   ],
   "source": [
    "%%time\n",
    "\n",
    "# Add SSIM with random corruption to the results\n",
    "results += autoencoder_evaluation(incremental_autoencoder, test_data, compare_function=ssim, corruption_type=\"random\")\n",
    "results += autoencoder_evaluation(autoencoder, test_data, compare_function=ssim, corruption_type=\"random\")\n",
    "results += autoencoder_evaluation(random_autoencoder, test_data, compare_function=ssim, corruption_type=\"random\")\n",
    "\n",
    "print(len(results))"
   ]
  },
  {
   "cell_type": "code",
   "execution_count": 19,
   "metadata": {},
   "outputs": [
    {
     "name": "stdout",
     "output_type": "stream",
     "text": [
      "10890000\n",
      "CPU times: user 3min 38s, sys: 3.47 s, total: 3min 42s\n",
      "Wall time: 2min 25s\n"
     ]
    }
   ],
   "source": [
    "%%time\n",
    "\n",
    "# Add PSNR with random corruption to the results\n",
    "results += autoencoder_evaluation(incremental_autoencoder, test_data, compare_function=psnr, corruption_type=\"random\")\n",
    "results += autoencoder_evaluation(autoencoder, test_data, compare_function=psnr, corruption_type=\"random\")\n",
    "results += autoencoder_evaluation(random_autoencoder, test_data, compare_function=psnr, corruption_type=\"random\")\n",
    "\n",
    "print(len(results))"
   ]
  },
  {
   "cell_type": "code",
   "execution_count": 20,
   "metadata": {},
   "outputs": [
    {
     "name": "stdout",
     "output_type": "stream",
     "text": [
      "11880000\n",
      "CPU times: user 3min 24s, sys: 3.74 s, total: 3min 27s\n",
      "Wall time: 2min 12s\n"
     ]
    }
   ],
   "source": [
    "%%time\n",
    "\n",
    "# Add NRMSE with random corruption to the results\n",
    "results += autoencoder_evaluation(incremental_autoencoder, test_data, compare_function=nrmse, corruption_type=\"random\")\n",
    "results += autoencoder_evaluation(autoencoder, test_data, compare_function=nrmse, corruption_type=\"random\")\n",
    "results += autoencoder_evaluation(random_autoencoder, test_data, compare_function=nrmse, corruption_type=\"random\")\n",
    "\n",
    "print(len(results))"
   ]
  },
  {
   "cell_type": "code",
   "execution_count": 21,
   "metadata": {},
   "outputs": [],
   "source": [
    "# Convert the list of results to a pandas dataframe\n",
    "df = pd.DataFrame(results)\n",
    "\n",
    "# Save the dataframe to a pickle file\n",
    "df.to_pickle(\"./Dataframes/\" + save_extention + \"_DF.pkl\")"
   ]
  },
  {
   "cell_type": "code",
   "execution_count": null,
   "metadata": {},
   "outputs": [],
   "source": []
  }
 ],
 "metadata": {
  "kernelspec": {
   "display_name": "Python 3",
   "language": "python",
   "name": "python3"
  },
  "language_info": {
   "codemirror_mode": {
    "name": "ipython",
    "version": 3
   },
   "file_extension": ".py",
   "mimetype": "text/x-python",
   "name": "python",
   "nbconvert_exporter": "python",
   "pygments_lexer": "ipython3",
   "version": "3.7.3"
  }
 },
 "nbformat": 4,
 "nbformat_minor": 2
}
